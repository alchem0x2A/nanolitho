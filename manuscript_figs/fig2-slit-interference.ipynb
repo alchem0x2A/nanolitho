{
 "cells": [
  {
   "cell_type": "markdown",
   "id": "a9595189-2b51-4c79-9d34-9561b0255da7",
   "metadata": {},
   "source": [
    "# This notebook reproduces the slit interference simulations in Figures 2 and S5"
   ]
  },
  {
   "cell_type": "code",
   "execution_count": 1,
   "id": "d1c4ac7f-be67-4af3-a5c1-92d5f265de27",
   "metadata": {},
   "outputs": [],
   "source": [
    "from pathlib import Path\n",
    "\n",
    "import matplotlib.pyplot as plt\n",
    "import numpy as np\n",
    "\n",
    "from mbhl import *"
   ]
  },
  {
   "cell_type": "code",
   "execution_count": 2,
   "id": "5e2a5f08-c359-4026-ab5d-6af7226038dc",
   "metadata": {},
   "outputs": [],
   "source": [
    "%mkdir -p subfigs-Fig2-FigS5"
   ]
  },
  {
   "cell_type": "markdown",
   "id": "8df0d8ce-fe89-4794-b7ea-b3f6aef09267",
   "metadata": {},
   "source": [
    "`plot_line` renders the top-viewed line interference and corresponding height profiles in tiff formats. For post-processing of the tiff files, a 3D engine like [Gwyddion](http://gwyddion.net) is required. The tiff files will be generated under `subfigs-Fig2-FigS5`."
   ]
  },
  {
   "cell_type": "code",
   "execution_count": 3,
   "id": "fd1f98ed-701a-4b40-9ca6-1682d4a1cae4",
   "metadata": {},
   "outputs": [],
   "source": [
    "def lambda_to_s(l1, l2, R):\n",
    "    \"\"\"Function to translate (\\lambda_1, \\lambda_2) to (s_1, s_2)\"\"\"\n",
    "    s1 = 2 * R / (1 / l2 - 1)\n",
    "    s2 = s1 / l1 - s1\n",
    "    return s1, s2"
   ]
  },
  {
   "cell_type": "code",
   "execution_count": 91,
   "id": "2bbe028e-3bfb-4680-9604-b40562878601",
   "metadata": {},
   "outputs": [],
   "source": [
    "def plot_line(\n",
    "    ax,\n",
    "    # Line width\n",
    "    s1=100 * nm,\n",
    "    # Spacing\n",
    "    s2=100 * nm,\n",
    "    # Fixed R value\n",
    "    offset=500 * nm,\n",
    "    diffusion=15 * nm,\n",
    "    drift=0 * nm,\n",
    "    h=10 * nm,\n",
    "    lim=(0.5 * um, 3.5 * um, 0.5 * um, 3.5 * um),\n",
    "    gap=2.5 * um,\n",
    "    cmap=\"viridis\",\n",
    "    alpha=1.0,\n",
    "    n_pts=360,\n",
    "    fold_to_bz=True,\n",
    "):\n",
    "    H = gap\n",
    "    # Back calculate the phi\n",
    "    phi = np.arctan(offset / H)\n",
    "    theta_0 = 0\n",
    "    traj = n_beam_trajectory(phi, theta_0=theta_0, n_pts=n_pts)\n",
    "    phys = Physics(traj, diffusion=diffusion, drift=drift)\n",
    "    geom = line_lattice(\n",
    "        s1=s1, s2=s2, orientation=\"vertical\", length_ratio_nonperiodic=1.0\n",
    "    )\n",
    "    stencil = Stencil(geom, thickness=0, gap=gap, h=h)\n",
    "    system = System(stencil=stencil, physics=phys)\n",
    "    system.simulate(method=\"fft\", fold_to_bz=fold_to_bz)\n",
    "    ax.set_axis_off()\n",
    "    # Calculate repeat\n",
    "    cw, ch = stencil.cell\n",
    "    repeat_x, repeat_y = int(np.ceil(lim[1] / cw)), int(np.ceil(lim[3] / ch))\n",
    "    repeat = (repeat_x, repeat_y)\n",
    "    system.draw(\n",
    "        ax,\n",
    "        show_mask=False,\n",
    "        repeat=repeat,\n",
    "        cmap=cmap,\n",
    "        mask_lw=0,\n",
    "        domain=lim,\n",
    "        alpha=alpha,\n",
    "    )\n",
    "    return system, repeat"
   ]
  },
  {
   "cell_type": "markdown",
   "id": "4e38d04b-32e9-4c00-a532-415d9c901e9a",
   "metadata": {},
   "source": [
    "1. Below are sub-panels in figure2"
   ]
  },
  {
   "cell_type": "code",
   "execution_count": 92,
   "id": "b917ac5f-68cb-4ac8-821f-e5af64c2f42f",
   "metadata": {},
   "outputs": [
    {
     "name": "stdout",
     "output_type": "stream",
     "text": [
      "0.23076923076923075 0.28846153846153844\n",
      "300.0 1000.0\n"
     ]
    },
    {
     "data": {
      "image/png": "[encoded data removed]",
      "text/plain": [
       "<Figure size 640x480 with 1 Axes>"
      ]
     },
     "metadata": {},
     "output_type": "display_data"
    }
   ],
   "source": [
    "# Fully separated case\n",
    "offset = 370 * nm\n",
    "s1 = 300 * nm\n",
    "s2 = 1000 * nm\n",
    "l1 = s1 / (s1 + s2)\n",
    "l2 = s1 / (offset * 2 + s1)\n",
    "print(l1, l2)\n",
    "s1, s2 = lambda_to_s(l1, l2, R=offset)\n",
    "print(s1 / nm, s2 / nm)\n",
    "system, repeat = plot_line(\n",
    "    plt.gca(),\n",
    "    s1=s1,\n",
    "    s2=s2,\n",
    "    offset=offset,\n",
    "    diffusion=50 * nm,\n",
    "    n_pts=360,\n",
    "    cmap=\"viridis\",\n",
    "    lim=(2.8 * um, 8.5 * um, 1.0 * um, 8.5 * um),\n",
    ")\n",
    "# fname=f\"subfigs-Fig2-FigS5/fitting_l1-{l1:.2f}_l2-{l2:.2f}.tiff\"\n",
    "# system.save_tiff(fname=fname, repeat=repeat)"
   ]
  },
  {
   "cell_type": "code",
   "execution_count": 93,
   "id": "8c6b6b81-8038-49ce-b729-d4932602ba79",
   "metadata": {},
   "outputs": [
    {
     "name": "stdout",
     "output_type": "stream",
     "text": [
      "0.33333333333333337 0.2912621359223301\n",
      "300.0 599.9999999999999\n"
     ]
    },
    {
     "data": {
      "image/png": "[encoded data removed]",
      "text/plain": [
       "<Figure size 640x480 with 1 Axes>"
      ]
     },
     "metadata": {},
     "output_type": "display_data"
    }
   ],
   "source": [
    "# Sawtooth pattern\n",
    "offset = 365 * nm\n",
    "s1 = 300 * nm\n",
    "s2 = 600 * nm\n",
    "l1 = s1 / (s1 + s2)\n",
    "l2 = s1 / (offset * 2 + s1)\n",
    "print(l1, l2)\n",
    "s1, s2 = lambda_to_s(l1, l2, R=offset)\n",
    "print(s1 / nm, s2 / nm)\n",
    "system = plot_line(\n",
    "    plt.gca(),\n",
    "    s1=s1,\n",
    "    s2=s2,\n",
    "    offset=offset,\n",
    "    diffusion=50 * nm,\n",
    "    n_pts=360,\n",
    "    cmap=\"viridis\",\n",
    "    lim=(2.8 * um, 8.5 * um, 1.0 * um, 8.5 * um),\n",
    ")\n",
    "# system.save_tiff(fname=f\"subfigs-Fig2-FigS5/fitting_l1-{l1:.2f}_l2-{l2:.2f}.tiff\")"
   ]
  },
  {
   "cell_type": "code",
   "execution_count": 94,
   "id": "153c66bd-b416-41e1-bd55-c9390e3da4f9",
   "metadata": {},
   "outputs": [
    {
     "name": "stdout",
     "output_type": "stream",
     "text": [
      "0.4285714285714286 0.28846153846153844\n",
      "300.0 399.99999999999994\n"
     ]
    },
    {
     "data": {
      "image/png": "[encoded data removed]",
      "text/plain": [
       "<Figure size 640x480 with 1 Axes>"
      ]
     },
     "metadata": {},
     "output_type": "display_data"
    }
   ],
   "source": [
    "# Comb pattern\n",
    "offset = 370 * nm\n",
    "s1 = 300 * nm\n",
    "s2 = 400 * nm\n",
    "l1 = s1 / (s1 + s2)\n",
    "l2 = s1 / (offset * 2 + s1)\n",
    "print(l1, l2)\n",
    "s1, s2 = lambda_to_s(l1, l2, R=offset)\n",
    "print(s1 / nm, s2 / nm)\n",
    "system = plot_line(\n",
    "    plt.gca(),\n",
    "    s1=s1,\n",
    "    s2=s2,\n",
    "    offset=offset,\n",
    "    diffusion=50 * nm,\n",
    "    n_pts=360,\n",
    "    cmap=\"viridis\",\n",
    "    lim=(2.8 * um, 8.5 * um, 1.0 * um, 8.5 * um),\n",
    ")\n",
    "# system.save_tiff(h=5 * nm, fname=f\"subfigs-Fig2-FigS5/fitting_l1-{l1:.2f}_l2-{l2:.2f}.tiff\")"
   ]
  },
  {
   "cell_type": "code",
   "execution_count": 104,
   "id": "39b3cacf-f7fd-46a6-9e4d-52d3dbf1754d",
   "metadata": {},
   "outputs": [
    {
     "name": "stdout",
     "output_type": "stream",
     "text": [
      "0.5555555555555556 0.1336898395721925\n",
      "249.99999999999997 199.99999999999997\n"
     ]
    },
    {
     "data": {
      "image/png": "[encoded data removed]",
      "text/plain": [
       "<Figure size 640x480 with 1 Axes>"
      ]
     },
     "metadata": {},
     "output_type": "display_data"
    }
   ],
   "source": [
    "# Higher-order pattern\n",
    "offset = 810 * nm\n",
    "s1 = 250 * nm\n",
    "s2 = 200 * nm\n",
    "l1 = s1 / (s1 + s2)\n",
    "l2 = s1 / (offset * 2 + s1)\n",
    "print(l1, l2)\n",
    "s1, s2 = lambda_to_s(l1, l2, R=offset)\n",
    "print(s1 / nm, s2 / nm)\n",
    "system, repeat = plot_line(\n",
    "    plt.gca(),\n",
    "    s1=s1,\n",
    "    s2=s2,\n",
    "    offset=offset,\n",
    "    diffusion=50 * nm,\n",
    "    n_pts=1200,\n",
    "    cmap=\"viridis\",\n",
    "    fold_to_bz=False,\n",
    "    lim=(2.8 * um, 8.5 * um, 1.0 * um, 8.5 * um),\n",
    ")\n",
    "# system.save_tiff(fname=f\"subfigs-Fig2-FigS5/fitting_l1-{l1:.2f}_l2-{l2:.2f}-new.tiff\",\n",
    "# repeat=repeat)"
   ]
  },
  {
   "cell_type": "markdown",
   "id": "19cf3ba0-643e-4469-a70a-f78db9f12aab",
   "metadata": {},
   "source": [
    "##### 2. Below are the CL-simulated sub-panels in Figure S5"
   ]
  },
  {
   "cell_type": "code",
   "execution_count": 105,
   "id": "5027d372-e72e-40e8-a339-3ae86a0b5161",
   "metadata": {},
   "outputs": [
    {
     "name": "stdout",
     "output_type": "stream",
     "text": [
      "981.8181818181816 528.6713286713285\n"
     ]
    },
    {
     "data": {
      "image/png": "[encoded data removed]",
      "text/plain": [
       "<Figure size 640x480 with 1 Axes>"
      ]
     },
     "metadata": {},
     "output_type": "display_data"
    }
   ],
   "source": [
    "# Sawtooth pattern with larger \\lambda_1\n",
    "offset = 600 * nm\n",
    "l1 = 0.65\n",
    "l2 = 0.45\n",
    "s1, s2 = lambda_to_s(l1, l2, R=offset)\n",
    "print(s1 / nm, s2 / nm)\n",
    "system = plot_line(\n",
    "    plt.gca(),\n",
    "    s1=s1,\n",
    "    s2=s2,\n",
    "    offset=offset,\n",
    "    diffusion=50 * nm,\n",
    "    n_pts=360,\n",
    "    cmap=\"viridis\",\n",
    "    # angle_offset=90,\n",
    "    # default_h=5 * nm,\n",
    "    lim=(2.8 * um, 8.5 * um, 1.0 * um, 8.5 * um),\n",
    ")\n",
    "# system.save_tiff(h=5 * nm, fname=f\"subfigs-Fig2-FigS5/fitting_l1-{l1:.2f}_l2-{l2:.2f}.tiff\")"
   ]
  },
  {
   "cell_type": "code",
   "execution_count": 106,
   "id": "a7874f93-c08f-4aa3-9452-57681863214f",
   "metadata": {},
   "outputs": [
    {
     "name": "stdout",
     "output_type": "stream",
     "text": [
      "799.9999999999999 266.6666666666667\n"
     ]
    },
    {
     "data": {
      "image/png": "[encoded data removed]",
      "text/plain": [
       "<Figure size 640x480 with 1 Axes>"
      ]
     },
     "metadata": {},
     "output_type": "display_data"
    }
   ],
   "source": [
    "# Comb pattern with larger \\lambda_1\n",
    "offset = 600 * nm\n",
    "l1 = 0.75\n",
    "l2 = 0.40\n",
    "s1, s2 = lambda_to_s(l1, l2, R=offset)\n",
    "print(s1 / nm, s2 / nm)\n",
    "system = plot_line(\n",
    "    plt.gca(),\n",
    "    s1=s1,\n",
    "    s2=s2,\n",
    "    offset=offset,\n",
    "    diffusion=50 * nm,\n",
    "    n_pts=360,\n",
    "    cmap=\"viridis\",\n",
    "    # angle_offset=90,\n",
    "    # default_h=5 * nm,\n",
    "    lim=(2.8 * um, 8.5 * um, 1.0 * um, 8.5 * um),\n",
    ")\n",
    "# system.save_tiff(h=5 * nm, fname=f\"subfigs-Fig2-FigS5/fitting_l1-{l1:.2f}_l2-{l2:.2f}.tiff\")"
   ]
  },
  {
   "cell_type": "code",
   "execution_count": 107,
   "id": "46d2dfd5-0747-45d9-bead-0b0a98e17d4c",
   "metadata": {},
   "outputs": [
    {
     "name": "stdout",
     "output_type": "stream",
     "text": [
      "399.99999999999994 70.58823529411767\n"
     ]
    },
    {
     "data": {
      "image/png": "[encoded data removed]",
      "text/plain": [
       "<Figure size 640x480 with 1 Axes>"
      ]
     },
     "metadata": {},
     "output_type": "display_data"
    }
   ],
   "source": [
    "# Higher-order with larger \\lambda_1\n",
    "offset = 600 * nm\n",
    "l1 = 0.85\n",
    "l2 = 0.25\n",
    "s1, s2 = lambda_to_s(l1, l2, R=offset)\n",
    "print(s1 / nm, s2 / nm)\n",
    "system = plot_line(\n",
    "    plt.gca(),\n",
    "    s1=s1,\n",
    "    s2=s2,\n",
    "    offset=offset,\n",
    "    diffusion=30 * nm,\n",
    "    n_pts=360,\n",
    "    cmap=\"viridis\",\n",
    "    fold_to_bz=True,\n",
    "    # angle_offset=90,\n",
    "    # default_h=5 * nm,\n",
    "    lim=(2.8 * um, 8.5 * um, 1.0 * um, 8.5 * um),\n",
    ")\n",
    "# system.save_tiff(h=5 * nm, fname=f\"subfigs-Fig2-FigS5/fitting_l1-{l1:.2f}_l2-{l2:.2f}.tiff\")"
   ]
  },
  {
   "cell_type": "code",
   "execution_count": 108,
   "id": "a48c310e-a194-4357-9c79-8c5ae15abd57",
   "metadata": {},
   "outputs": [
    {
     "name": "stdout",
     "output_type": "stream",
     "text": [
      "0.010000000000000002 0.05\n",
      "73.6842105263158 7294.736842105262\n"
     ]
    },
    {
     "data": {
      "image/png": "[encoded data removed]",
      "text/plain": [
       "<Figure size 640x480 with 1 Axes>"
      ]
     },
     "metadata": {},
     "output_type": "display_data"
    },
    {
     "name": "stdout",
     "output_type": "stream",
     "text": [
      "0.05 0.25\n",
      "466.66666666666674 8866.666666666666\n"
     ]
    },
    {
     "data": {
      "image/png": "[encoded data removed]",
      "text/plain": [
       "<Figure size 640x480 with 1 Axes>"
      ]
     },
     "metadata": {},
     "output_type": "display_data"
    },
    {
     "name": "stdout",
     "output_type": "stream",
     "text": [
      "0.1 0.5\n",
      "1400.0 12600.0\n"
     ]
    },
    {
     "data": {
      "image/png": "[encoded data removed]",
      "text/plain": [
       "<Figure size 640x480 with 1 Axes>"
      ]
     },
     "metadata": {},
     "output_type": "display_data"
    }
   ],
   "source": [
    "# Approximated lambda_1 --> 0 cases\n",
    "# The 3D topography were extracted from the distantly-separated periodic line interferences\n",
    "for l2 in (0.05, 0.25, 0.50):\n",
    "    offset = 700 * nm\n",
    "    l2 = l2\n",
    "    l1 = 0.2 * l2\n",
    "    print(l1, l2)\n",
    "    s1, s2 = lambda_to_s(l1, l2, R=offset)\n",
    "    print(s1 / nm, s2 / nm)\n",
    "    system = plot_line(\n",
    "        plt.gca(),\n",
    "        s1=s1,\n",
    "        s2=s2,\n",
    "        offset=offset,\n",
    "        n_pts=360,\n",
    "        cmap=\"viridis\",\n",
    "        h=10 * nm,\n",
    "        # angle_offset=90,\n",
    "        # default_h=5 * nm,\n",
    "        lim=(2.8 * um, 8.5 * um, 1.0 * um, 8.5 * um),\n",
    "    )\n",
    "    plt.show()\n",
    "    # system.save_tiff(h=5 * nm,\n",
    "    # fname=f\"subfigs-Fig2-FigS5/fitting_l1-{l1:.2f}_l2-{l2:.2f}.tiff\")"
   ]
  },
  {
   "cell_type": "code",
   "execution_count": null,
   "id": "f04defb7-e8df-4e5c-a7b8-d6fd443dd01b",
   "metadata": {},
   "outputs": [],
   "source": []
  }
 ],
 "metadata": {
  "kernelspec": {
   "display_name": "Python 3 (ipykernel)",
   "language": "python",
   "name": "python3"
  },
  "language_info": {
   "codemirror_mode": {
    "name": "ipython",
    "version": 3
   },
   "file_extension": ".py",
   "mimetype": "text/x-python",
   "name": "python",
   "nbconvert_exporter": "python",
   "pygments_lexer": "ipython3",
   "version": "3.10.11"
  }
 },
 "nbformat": 4,
 "nbformat_minor": 5
}
